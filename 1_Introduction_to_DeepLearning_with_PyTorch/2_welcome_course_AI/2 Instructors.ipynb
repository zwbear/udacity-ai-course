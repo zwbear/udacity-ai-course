{
 "cells": [
  {
   "cell_type": "markdown",
   "metadata": {},
   "source": [
    "# Instructors"
   ]
  },
  {
   "cell_type": "markdown",
   "metadata": {},
   "source": [
    "![image](images/section_2/mat-headshot.png \"Hello, I'm Mat!\")\n",
    "\n",
    "## Mat Leonard\n",
    "\n",
    "Mat is the product lead for Udacity's School of AI and a former content developer as well. He received his PhD in physics from UC Berkeley where he spent most of his time as an experimental neuroscientist. During that time, he gained a love of Python, machine learning, neural networks, and Bayesian statistics. At Udacity, Mat has built courses on Hadoop, data visualization, Python tools such as Conda and Jupyter, and deep learning.\n",
    "\n",
    "In this course, Mat will be teaching you the basics of PyTorch and how to use new features for deploying models."
   ]
  },
  {
   "cell_type": "markdown",
   "metadata": {},
   "source": [
    "![image](images/section_2/cezanne-head.jpg \"I'm Cezanne, welcome!\")\n",
    "\n",
    "## Cezanne Camacho\n",
    "\n",
    "Cezanne is a computer vision and deep learning expert, with a Masters in Electrical Engineering from Stanford University. As a former genomics and biomedical imaging researcher, she’s applied machine learning to the field of medical diagnostics. She's mostly interested in how humans reason and how to use that logic to become a better teacher and programmer!\n",
    "\n",
    "In this course, Cezanne will teach you about using PyTorch to define and train convolutional and recurrent neural networks."
   ]
  },
  {
   "cell_type": "markdown",
   "metadata": {},
   "source": [
    "![image](images/section_2/alexis-headshot.jpg \"I'm Alexis, happy to be teaching you!\")\n",
    "\n",
    "## Alexis Cook\n",
    "\n",
    "Alexis is the Curriculum Lead for Udacity's Deep Reinforcement Learning Nanodegree program. She is an expert in machine learning with a Masters in computer science from Brown University and a Masters in applied mathematics from the University of Michigan.\n",
    "\n",
    "In this course, Alexis will be teaching you about convolutional neural networks, a powerful architecture for computer vision problems."
   ]
  }
 ],
 "metadata": {
  "kernelspec": {
   "display_name": "Python 3",
   "language": "python",
   "name": "python3"
  },
  "language_info": {
   "codemirror_mode": {
    "name": "ipython",
    "version": 3
   },
   "file_extension": ".py",
   "mimetype": "text/x-python",
   "name": "python",
   "nbconvert_exporter": "python",
   "pygments_lexer": "ipython3",
   "version": "3.7.3"
  }
 },
 "nbformat": 4,
 "nbformat_minor": 2
}
