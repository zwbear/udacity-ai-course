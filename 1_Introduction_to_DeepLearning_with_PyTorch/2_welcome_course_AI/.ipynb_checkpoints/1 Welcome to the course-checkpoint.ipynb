{
 "cells": [
  {
   "cell_type": "markdown",
   "metadata": {},
   "source": [
    "# Welcome to the course!"
   ]
  },
  {
   "cell_type": "markdown",
   "metadata": {},
   "source": [
    "![image](images/section_1/meme.png)\n",
    "\n",
    "## Welcome!\n",
    "\n",
    "Hi everyone and welcome to this course on deep learning with PyTorch. I'm Luis Serrano, the lead instructor for this course. I've been at Udacity for nearly three years, teaching various machine learning, deep learning, and AI topics. Before Udacity, I was a Machine Learning Engineer at Google. And before that, I received a PhD in mathematics from the University of Michigan, and a Postdoctoral Fellowship at the University of Quebec at Montreal.\n",
    "\n",
    "## Course overview\n",
    "\n",
    "We've built this course as an introduction to deep learning. Deep learning is a field of machine learning utilizing massive neural networks, massive datasets, and accelerated computing on GPUs. Many of the advancements we've seen in AI recently are due to the power of deep learning. This revolution is impacting a wide range of industries already with applications such as personal voice assistants, medical imaging, automated vehicles, video game AI, and more.\n",
    "\n",
    "In this course, we'll be covering the concepts behind deep learning and how to build deep learning models using PyTorch. We've included a lot of hands-on exercises so by the end of the course, you'll be defining and training your own state-of-the-art deep learning models.\n",
    "\n",
    "## PyTorch\n",
    "\n",
    "[PyTorch](https://pytorch.org) is an open-source Python framework from the [Facebook AI Research team](https://research.fb.com/category/facebook-ai-research/) used for developing deep neural networks. I like to think of PyTorch as an extension of Numpy that has some convenience classes for defining neural networks and accelerated computations using GPUs. PyTorch is designed with a Python-first philosophy, it follows Python conventions and idioms, and works perfectly alongside popular Python packages.\n",
    "\n",
    "![image](images/section_1/udacitypytorch-welcomepage-image-v2.png)\n",
    "\n",
    "## PyTorch Community and Facebook Developers Community\n",
    "\n",
    "Our friends at Facebook have collaborated with us to bring you access to this free course and develop your skills in deep learning using PyTorch. Make sure [you register](https://go.fb.com/ai-developer-signup.html) to stay up to date on the latest PyTorch news, product updates, meetups, and programs like Developer Circles.\n"
   ]
  }
 ],
 "metadata": {
  "kernelspec": {
   "display_name": "Python 3",
   "language": "python",
   "name": "python3"
  },
  "language_info": {
   "codemirror_mode": {
    "name": "ipython",
    "version": 3
   },
   "file_extension": ".py",
   "mimetype": "text/x-python",
   "name": "python",
   "nbconvert_exporter": "python",
   "pygments_lexer": "ipython3",
   "version": "3.7.3"
  }
 },
 "nbformat": 4,
 "nbformat_minor": 2
}
