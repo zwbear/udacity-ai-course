{
 "cells": [
  {
   "cell_type": "markdown",
   "metadata": {},
   "source": [
    "# Gradient Descent"
   ]
  },
  {
   "cell_type": "markdown",
   "metadata": {},
   "source": [
    "## Gradient Descent\n",
    "\n",
    "In this lesson, we'll learn the principles and the math behind the gradient descent algorithm.\n",
    "\n",
    "[![Video](//img.youtube.com/vi/rhVIF-nigrY/0.jpg)](//www.youtube.com/watch?v=rhVIF-nigrY)\n"
   ]
  },
  {
   "cell_type": "markdown",
   "metadata": {},
   "source": [
    "## Gradient Calculation\n",
    "\n",
    "In the last few videos, we learned that in order to minimize the error function, we need to take some derivatives. So let's get our hands dirty and actually compute the derivative of the error function. The first thing to notice is that the sigmoid function has a really nice derivative. Namely,\n",
    "\n",
    "$\\sigma{'}(x) = \\sigma(x)(1 - \\sigma(x))$\n",
    "\n",
    "The reason for this is the following, we can calculate it using the quotient formula:\n",
    "\n",
    "$$\n",
    "\\begin{align}\n",
    "\\sigma^{'}(x) & = \\frac{\\partial}{\\partial{x}}\\frac{1}{1 + e^{-x}}\\\\\n",
    "& = \\frac{e^{-x}}{{(1+e^{-x})}^2}\\\\\n",
    "& = \\frac{1}{1+e^{-x}}\\frac{e^{-x}}{1+e^{-x}}\\\\\n",
    "& = \\sigma(x)(1 - \\sigma(x))\n",
    "\\end{align}\n",
    "$$\n",
    "\n",
    "And now, let's recall that if we have mm points labelled $x^{(1)}, x^{(2)},\\dots, x^{(m)}$, the error formula is:\n",
    "\n",
    "$E = -\\frac{1}{m}\\sum_{i=1}^{m}{(y_{i}\\ln(\\hat{y}_{i}) + (1 - y_{i})\\ln(1 - \\hat{y}_{i}))}$\n",
    "\n",
    "where the prediction is given by $\\hat{y}_{i} = \\sigma(Wx^{(i)} + b)$.\n",
    "Our goal is to calculate the gradient of $E$, at a point $x = (x_1,\\dots,x_n)$, given by the partial derivatives\n",
    "\n",
    "$\\nabla{E} = \\left(\\frac{\\partial}{\\partial{w_1}}E,\\dots,\\frac{\\partial}{\\partial{w_n}}E,\\frac{\\partial}{\\partial{b}}E\\right)$\n",
    "\n",
    "To simplify our calculations, we'll actually think of the error that each point produces, and calculate the derivative of this error. The total error, then, is the average of the errors at all the points. The error produced by each point is, simply,\n",
    "\n",
    "$E = -y\\ln{\\hat{y}} - (1 - y)\\ln(1 - \\hat{y})$\n",
    "\n",
    "In order to calculate the derivative of this error with respect to the weights, we'll first calculate $\\frac{\\partial}{\\partial{w_j}}\\hat{y}$.\n",
    "\n",
    "Recall that $\\hat{y} = \\sigma(Wx + b)$\n",
    "\n",
    "$$\n",
    "\\begin{align}\n",
    "\\frac{\\partial}{\\partial{w_j}}\\hat{y} & = \\frac{\\partial}{\\partial{w_j}}\\sigma(Wx + b)\\\\\n",
    "& = \\sigma(Wx + b)(1 - \\sigma(Wx + b))\\cdot\\frac{\\partial}{\\partial{w_j}}(Wx + b)\\\\\n",
    "& = \\hat{y}(1 - \\hat{y})\\cdot\\frac{\\partial}{\\partial{w_j}}(Wx + b)\\\\\n",
    "& = \\hat{y}(1 - \\hat{y})\\cdot\\frac{\\partial}{\\partial{w_j}}(w_1x_1 + \\cdots + w_jx_j + \\cdots + w_nx_n + b)\\\\\n",
    "& = \\hat{y}(1 - \\hat{y})\\cdot x_j\n",
    "\\end{align}\n",
    "$$\n",
    "\n",
    "The last equality is because the only term in the sum which is not a constant with respect to $w_j$ is precisely $w_jx_j$, which clearly has derivative $x_j$.\n",
    "\n",
    "Now, we can go ahead and calculate the dericative of the error $\\mathsf{E}$ at a point $x$, with respect to the weight $w_j$.\n",
    "\n",
    "$$\n",
    "\\begin{align}\n",
    "\\frac{\\partial}{\\partial{w_j}}\\mathsf{E} & = \\frac{\\partial}{\\partial{w_j}}[-y\\log(\\hat{y}) - (1 - y)\\log(1 - \\hat{y})]\\\\\n",
    "& = -y\\frac{\\partial}{\\partial{w_j}}\\log(\\hat{y}) - (1 - y)\\frac{\\partial}{\\partial{w_j}}\\log(1 - \\hat{y})\\\\\n",
    "& = -y\\cdot\\frac{1}{y}\\cdot\\frac{\\partial}{\\partial{w_j}}\\hat{y} - (1 - y)\\cdot\\frac{1}{1-\\hat{y}}\\cdot\\frac{\\partial}{\\partial{w_j}}(1 - \\hat{y})\\\\\n",
    "& = -y\\cdot\\frac{1}{y}\\cdot\\hat{y}(1 - \\hat{y})x_j - (1 - y)\\cdot\\frac{1}{1-\\hat{y}}\\cdot(-1)\\hat{y}(1 - \\hat{y})x_j\\\\\n",
    "& = -y (1 - \\hat{y})\\cdot x_j + (1 - y)\\hat{y}\\cdot x_j\\\\\n",
    "& = -(y - \\hat{y})x_j\n",
    "\\end{align}\n",
    "$$\n",
    "\n",
    "A similar calculation will show us that\n",
    "\n",
    "$$\\frac{\\partial}{\\partial{b}}\\mathsf{E} = -(y - \\hat{y})$$\n",
    "\n",
    "This actually tells us something very important. For a point with coordinates $(x_1,\\ldots,x_n)$, lable $y$, and prediction $\\hat{y}$, the gradient of the error function at that point is\n",
    "$(-(y - \\hat{y})x_i,\\ldots,-(y - \\hat{y})x_n, -(y - \\hat{y}))$. In summary, the gradient is\n",
    "$\\nabla\\mathsf{E} = -(y - \\hat{y}(x_1,\\ldots,x_n,1))$.\n",
    "\n",
    "If you think about it, this is fascinating. The gradient is actually a scalar times the coordinates of the point! And what is the scalar? Nothing less than a multiple of the difference between the label and the prediction. What significance does this have?"
   ]
  },
  {
   "cell_type": "markdown",
   "metadata": {},
   "source": [
    "## QUIZ QUESTION\n",
    "\n",
    "What does the scalar we obtained above signify? (Check all that are true.)\n",
    "\n",
    "- Closer the label to the prediction, larger the gradient.\n",
    "- **Close the label to the prediction, smaller the gradient.**\n",
    "- **Farther the label from the prediction, larger the gradient.**\n",
    "- Farther the label to the prediction, smaller the gradient.\n"
   ]
  },
  {
   "cell_type": "markdown",
   "metadata": {},
   "source": [
    "So, a small gradient means we'll change our coordinates by a little bit, and a large gradient means we'll change our coordinates by a lot.\n",
    "\n",
    "If this sounds anything like the perceptron algorithm, this is no coincidence! We'll see it in a bit."
   ]
  },
  {
   "cell_type": "markdown",
   "metadata": {},
   "source": [
    "## Gradient Descent Step\n",
    "\n",
    "Therefore, since the gradient descent step simply consists in subtracting a multiple of the gradient of the error function at every point, then this updates the weights in the following way:\n",
    "\n",
    "$w_i^{'} \\leftarrow w_i - \\alpha[-(y - \\hat{y})x_i]$,\n",
    "\n",
    "which is equivalent to\n",
    "\n",
    "$w_i^{'} \\leftarrow w_i + \\alpha(y - \\hat{y})x_i$.\n",
    "\n",
    "Similarly, it updates the bias in the following way:\n",
    "\n",
    "$b^{'} \\leftarrow b + \\alpha(y - \\hat{y})$,\n",
    "\n",
    "_Note_: Since we've taken the average of the errors, the term we are adding should be $\\frac{1}{m}\\cdot\\alpha$ instead of $\\alpha$, but as $\\alpha$ is a constant, then in order to simplify calculations, we'll just take $\\frac{1}{m}\\cdot\\alpha$ to be our learning rate, and abuse the notation by just calling it $\\alpha$."
   ]
  }
 ],
 "metadata": {
  "kernelspec": {
   "display_name": "Python 3",
   "language": "python",
   "name": "python3"
  },
  "language_info": {
   "codemirror_mode": {
    "name": "ipython",
    "version": 3
   },
   "file_extension": ".py",
   "mimetype": "text/x-python",
   "name": "python",
   "nbconvert_exporter": "python",
   "pygments_lexer": "ipython3",
   "version": "3.7.3"
  }
 },
 "nbformat": 4,
 "nbformat_minor": 2
}
