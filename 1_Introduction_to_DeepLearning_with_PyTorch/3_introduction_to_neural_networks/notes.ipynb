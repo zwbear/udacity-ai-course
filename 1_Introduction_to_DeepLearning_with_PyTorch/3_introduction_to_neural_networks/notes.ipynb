{
 "cells": [
  {
   "cell_type": "markdown",
   "metadata": {},
   "source": [
    "# Notes"
   ]
  },
  {
   "cell_type": "markdown",
   "metadata": {},
   "source": [
    "## Terms"
   ]
  },
  {
   "cell_type": "markdown",
   "metadata": {},
   "source": [
    "### Sigmoid Function (3.14)\n",
    "\n",
    "The Sigmoid Function describes the possibility.\n",
    "\n",
    "e.g. $x = score = 4x_1 + 5x_2 - 9$\n",
    "\n",
    "$$sigmoid(x) = \\frac{1}{1 + e^{-x}}$$\n",
    "\n",
    "the value of sigmoid function of $score = 0$ is `50%`."
   ]
  },
  {
   "cell_type": "markdown",
   "metadata": {},
   "source": [
    "### Softmax (3.15)\n",
    "\n",
    "Softmax function is the sigmoid activation function for more than 3 classes.\n",
    "By only 2 classes, Softmax function is identical with Sigmoid Function.\n",
    "\n",
    "$$Softmax_i = \\frac{e^i}{\\sum_{i=1}^{n}{e^{i}}}$$"
   ]
  },
  {
   "cell_type": "markdown",
   "metadata": {},
   "source": [
    "\n",
    "### Cross-Entropy (3.19 and 3.20)\n",
    "\n",
    "Cross-Entropy is a indicator of possibility. The larger is the cross-entropy, the smaller is the possibility.\n",
    "\n",
    "Corss-Entropy: $$CE = - \\sum_{i=1}^{n}{Y_i \\cdot log(P_i) + (1 - Y_i) \\cdot log(1 - P_i)}$$\n",
    "\n",
    "Since we only consider the situation $Y_i$ is `1` or `0`, one of the both items is always `0`."
   ]
  },
  {
   "cell_type": "markdown",
   "metadata": {},
   "source": [
    "### Multi-Class Cross Entropy (3.21)\n",
    "\n",
    "$$Cross-Entropy = - \\sum_{i=1}^{n}\\sum_{j=1}^{m}{Y_{ij} \\cdot ln(P_{ij})}$$"
   ]
  },
  {
   "cell_type": "markdown",
   "metadata": {},
   "source": [
    "### Error Function (3.22)\n",
    "\n",
    "\n",
    "$$P({case\\_1}) = \\hat{y}$$\n",
    "$$Error = -ln(\\hat{y})$$\n",
    "\n",
    "\n",
    "$$P({not\\_case\\_1}) = 1 - \\hat{y}$$\n",
    "$$Error = -ln(1 - \\hat{y})$$\n",
    "\n",
    "\n",
    "\n",
    "$$Error Function = -\\frac{1}{m}\\sum_{i=1}^{m}{(1 - y_i)\\ln( 1 - \\hat{y_i}) + y_i\\ln(\\hat{y_i})}$$\n",
    "\n",
    "$$E(W, b) = -\\frac{1}{m}\\sum_{i=1}^{m}{(1 - y_i)\\ln(1 - \\sigma(Wx^{(i)} + b)) + y_i\\ln(\\sigma(Wx^{(i)} + b))}$$"
   ]
  },
  {
   "cell_type": "markdown",
   "metadata": {},
   "source": [
    "### Gradient Descent (3.23)\n",
    "\n",
    "Grandient of the Sigmoid Function\n",
    "\n",
    "$$\n",
    "\\begin{align}\n",
    "\\sigma^{'}(x) & = \\frac{\\partial}{\\partial{x}}\\frac{1}{1 + e^{-x}}\\\\\n",
    "& = \\frac{e^{-x}}{{(1+e^{-x})}^2}\\\\\n",
    "& = \\frac{1}{1+e^{-x}}\\frac{e^{-x}}{1+e^{-x}}\\\\\n",
    "& = \\sigma(x)(1 - \\sigma(x))\n",
    "\\end{align}\n",
    "$$\n",
    "\n",
    "Error function by bias\n",
    "\n",
    "$$\n",
    "\\frac{\\partial}{\\partial{b}}E = -(y - \\hat{y})\n",
    "$$\n",
    "$$\n",
    "\\Delta{E} = -(y - \\hat{y}) (x_1,...,x_n,1)\n",
    "$$\n",
    "\n",
    "What we just can simply use is\n",
    "\n",
    "$w_i^{'} \\leftarrow w_i + \\alpha(y - \\hat{y})x_i$\n",
    "\n",
    "$b^{'} \\leftarrow b + \\alpha(y - \\hat{y})$\n",
    "\n",
    "for the iteration.\n"
   ]
  },
  {
   "cell_type": "markdown",
   "metadata": {},
   "source": [
    "## Sandbox"
   ]
  },
  {
   "cell_type": "code",
   "execution_count": 2,
   "metadata": {},
   "outputs": [
    {
     "name": "stdout",
     "output_type": "stream",
     "text": [
      "123\n"
     ]
    },
    {
     "data": {
      "text/plain": [
       "14"
      ]
     },
     "execution_count": 2,
     "metadata": {},
     "output_type": "execute_result"
    }
   ],
   "source": [
    "import numpy as np\n",
    "\n",
    "a = [0,1,2]\n",
    "b = [3,4,5]\n",
    "\n",
    "print(123)\n",
    "np.matmul(a,b)"
   ]
  },
  {
   "cell_type": "code",
   "execution_count": 3,
   "metadata": {},
   "outputs": [],
   "source": [
    "## Start 3.31\n",
    "\n",
    "import numpy as np\n",
    "\n",
    "def sigmoid(x):\n",
    "    return 1 / (1 + np.exp(-x))\n",
    "\n",
    "def output_formula(features, weights, bias):\n",
    "    return sigmoid(np.dot(features, weights) + bias)\n",
    "\n",
    "features = [0.4, 0.6]\n"
   ]
  },
  {
   "cell_type": "code",
   "execution_count": 4,
   "metadata": {},
   "outputs": [
    {
     "name": "stdout",
     "output_type": "stream",
     "text": [
      "0.9168273035060777\n"
     ]
    }
   ],
   "source": [
    "w = [2, 6]\n",
    "b = -2\n",
    "print(output_formula(features, w, b))"
   ]
  },
  {
   "cell_type": "code",
   "execution_count": 5,
   "metadata": {},
   "outputs": [
    {
     "name": "stdout",
     "output_type": "stream",
     "text": [
      "0.8807970779778823\n"
     ]
    }
   ],
   "source": [
    "w = [3, 5]\n",
    "b = -2.2\n",
    "print(output_formula(features, w, b))"
   ]
  },
  {
   "cell_type": "code",
   "execution_count": 6,
   "metadata": {},
   "outputs": [
    {
     "name": "stdout",
     "output_type": "stream",
     "text": [
      "0.8021838885585818\n"
     ]
    }
   ],
   "source": [
    "w = [5, 4]\n",
    "b = -3\n",
    "print(output_formula(features, w, b))"
   ]
  },
  {
   "cell_type": "code",
   "execution_count": null,
   "metadata": {},
   "outputs": [],
   "source": [
    "# end of 3.31"
   ]
  }
 ],
 "metadata": {
  "kernelspec": {
   "display_name": "Python 3",
   "language": "python",
   "name": "python3"
  },
  "language_info": {
   "codemirror_mode": {
    "name": "ipython",
    "version": 3
   },
   "file_extension": ".py",
   "mimetype": "text/x-python",
   "name": "python",
   "nbconvert_exporter": "python",
   "pygments_lexer": "ipython3",
   "version": "3.7.3"
  }
 },
 "nbformat": 4,
 "nbformat_minor": 2
}
