{
 "cells": [
  {
   "cell_type": "markdown",
   "metadata": {},
   "source": [
    "# Perceptron Trick"
   ]
  },
  {
   "cell_type": "markdown",
   "metadata": {},
   "source": [
    "In the last section you used your logic and your mathematical knowledge to create perceptrons for some of the most common logical operators. In real life, though, we can't be building these perceptrons ourselves. The idea is that we give them the result, and they build themselves. For this, here's a pretty neat trick that will help us."
   ]
  },
  {
   "cell_type": "markdown",
   "metadata": {},
   "source": [
    "![caption](images/section_9/perceptronquiz.png)"
   ]
  },
  {
   "cell_type": "markdown",
   "metadata": {},
   "source": [
    "### Quiz 1\n",
    "\n",
    "Does the misclassified point want the line to be closer or farther?\n",
    "\n",
    "- **Closer**\n",
    "- Farther"
   ]
  },
  {
   "cell_type": "markdown",
   "metadata": {},
   "source": [
    "### Video\n",
    "\n",
    "## Time for some math!\n",
    "\n",
    "Now that we've learned that the points that are misclassified, want the line to move closer to them, let's do some math. The following video shows a mathematical trick that modifies the equation of the line, so that it comes closer to a particular point.\n",
    "\n",
    "### Video\n",
    "\n",
    "### Quiz 2 of 2\n",
    "\n",
    "For the second example, where the line is described by 3x1+ 4x2 - 10 = 0, if the learning rate was set to 0.1, how many times would you have to apply the perceptron trick to move the line to a position where the blue point, at (1, 1), is correctly classified?\n"
   ]
  },
  {
   "cell_type": "code",
   "execution_count": 37,
   "metadata": {},
   "outputs": [
    {
     "name": "stdout",
     "output_type": "stream",
     "text": [
      "Test Result Weight: [3.1 4.1], Bias: -9.9, Result: -2.700000000000001\n",
      "Test Result Weight: [3.2 4.2], Bias: -9.8, Result: -2.4000000000000012\n",
      "Test Result Weight: [3.3 4.3], Bias: -9.700000000000001, Result: -2.1000000000000014\n",
      "Test Result Weight: [3.4 4.4], Bias: -9.600000000000001, Result: -1.8000000000000025\n",
      "Test Result Weight: [3.5 4.5], Bias: -9.500000000000002, Result: -1.5000000000000036\n",
      "Test Result Weight: [3.6 4.6], Bias: -9.400000000000002, Result: -1.2000000000000028\n",
      "Test Result Weight: [3.7 4.7], Bias: -9.300000000000002, Result: -0.9000000000000039\n",
      "Test Result Weight: [3.8 4.8], Bias: -9.200000000000003, Result: -0.600000000000005\n",
      "Test Result Weight: [3.9 4.9], Bias: -9.100000000000003, Result: -0.30000000000000604\n",
      "Test Result Weight: [4. 5.], Bias: -9.000000000000004, Result: -7.105427357601002e-15\n",
      "Test Result Weight: [4.1 5.1], Bias: -8.900000000000004, Result: 0.29999999999999183\n",
      "11\n"
     ]
    }
   ],
   "source": [
    "import pandas as pd\n",
    "import numpy as np\n",
    "\n",
    "w = np.array([3.0,4.0])\n",
    "point = np.array([1.0,1.0])\n",
    "x = np.array(point).T\n",
    "b = -10.0\n",
    "step = -0.1\n",
    "step_count = 0\n",
    "original_weight_and_bias = {\n",
    "    'weight': w,\n",
    "    'bias': b\n",
    "}\n",
    "\n",
    "def get_result(weight_and_bias):\n",
    "    return weight_and_bias['weight'].dot(x) + weight_and_bias['bias']\n",
    "\n",
    "def next_iter(weight_and_bias):\n",
    "    next_w = weight_and_bias['weight'] - step * point\n",
    "    next_b = weight_and_bias['bias'] - step\n",
    "    return {'weight': next_w, 'bias': next_b}\n",
    "    \n",
    "weight_and_bias = original_weight_and_bias\n",
    "\n",
    "while get_result(weight_and_bias) < 0:\n",
    "    step_count = step_count + 1\n",
    "    weight_and_bias = next_iter(weight_and_bias)\n",
    "    print(\"Test Result Weight: {0}, Bias: {1}, Result: {2}\".format(weight_and_bias['weight'], weight_and_bias['bias'], get_result(weight_and_bias),))\n",
    "\n",
    "print(step_count)"
   ]
  },
  {
   "cell_type": "markdown",
   "metadata": {},
   "source": [
    "#### Answer\n",
    "\n",
    "The Answer is **10** instead of 11. Is there a problem with the precision of the double?\n",
    "Other question is, what is the definition for the point exactly on the line?"
   ]
  },
  {
   "cell_type": "code",
   "execution_count": null,
   "metadata": {},
   "outputs": [],
   "source": []
  }
 ],
 "metadata": {
  "kernelspec": {
   "display_name": "Python 3",
   "language": "python",
   "name": "python3"
  },
  "language_info": {
   "codemirror_mode": {
    "name": "ipython",
    "version": 3
   },
   "file_extension": ".py",
   "mimetype": "text/x-python",
   "name": "python",
   "nbconvert_exporter": "python",
   "pygments_lexer": "ipython3",
   "version": "3.7.3"
  }
 },
 "nbformat": 4,
 "nbformat_minor": 2
}
