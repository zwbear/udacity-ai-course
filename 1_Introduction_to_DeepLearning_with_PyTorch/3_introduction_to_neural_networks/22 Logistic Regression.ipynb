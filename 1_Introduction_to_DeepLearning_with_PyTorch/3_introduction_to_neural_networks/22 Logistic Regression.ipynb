{
 "cells": [
  {
   "cell_type": "markdown",
   "metadata": {},
   "source": [
    "# Logistic Regression"
   ]
  },
  {
   "cell_type": "markdown",
   "metadata": {},
   "source": [
    "Now, we're finally ready for one of the most popular and useful algorithms in Machine Learning, and the building block of all that constitutes Deep Learning. The Logistic Regression Algorithm. And it basically goes like this:\n",
    "\n",
    "- Take your data\n",
    "- Pick a random model\n",
    "- Calculate the error\n",
    "- Minimize the error, and obtain a better model\n",
    "- Enjoy!\n"
   ]
  },
  {
   "cell_type": "markdown",
   "metadata": {},
   "source": [
    "## Calculating the Error Function\n",
    "\n",
    "Let's dive into the details. The next video will show you how to calculate an error function.\n",
    "\n",
    "[![Video](//img.youtube.com/vi/V5kkHldUlVU/0.jpg)](//www.youtube.com/watch?v=V5kkHldUlVU)\n"
   ]
  },
  {
   "cell_type": "markdown",
   "metadata": {},
   "source": [
    "## Minimizing the error function\n",
    "\n",
    "And this video will show us how to minimize the error function.\n",
    "\n",
    "[![Video](//img.youtube.com/vi/KayqiYijlzc/0.jpg)](//www.youtube.com/watch?v=KayqiYijlzc)\n"
   ]
  }
 ],
 "metadata": {
  "kernelspec": {
   "display_name": "Python 3",
   "language": "python",
   "name": "python3"
  },
  "language_info": {
   "codemirror_mode": {
    "name": "ipython",
    "version": 3
   },
   "file_extension": ".py",
   "mimetype": "text/x-python",
   "name": "python",
   "nbconvert_exporter": "python",
   "pygments_lexer": "ipython3",
   "version": "3.7.3"
  }
 },
 "nbformat": 4,
 "nbformat_minor": 2
}
