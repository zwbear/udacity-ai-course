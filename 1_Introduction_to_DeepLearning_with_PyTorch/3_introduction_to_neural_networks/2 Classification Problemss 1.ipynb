{
 "cells": [
  {
   "cell_type": "markdown",
   "metadata": {},
   "source": [
    "# Classification Problems 1"
   ]
  },
  {
   "cell_type": "markdown",
   "metadata": {},
   "source": [
    "## Classification Problems\n",
    "\n",
    "We'll start by defining what we mean by classification problems, and applying it to a simple example.\n",
    "\n",
    "[![Video](//img.youtube.com/vi/Dh625piH7Z0/0.jpg)](//www.youtube.com/watch?v=Dh625piH7Z0)\n",
    "\n",
    "![caption](images/section_2/student-quiz.png)\n",
    "\n",
    "### QUIZ QUESTION\n",
    "Does the student get accepted?\n",
    "\n",
    "- **Yes**\n",
    "- No"
   ]
  }
 ],
 "metadata": {
  "kernelspec": {
   "display_name": "Python 3",
   "language": "python",
   "name": "python3"
  },
  "language_info": {
   "codemirror_mode": {
    "name": "ipython",
    "version": 3
   },
   "file_extension": ".py",
   "mimetype": "text/x-python",
   "name": "python",
   "nbconvert_exporter": "python",
   "pygments_lexer": "ipython3",
   "version": "3.7.3"
  }
 },
 "nbformat": 4,
 "nbformat_minor": 2
}
