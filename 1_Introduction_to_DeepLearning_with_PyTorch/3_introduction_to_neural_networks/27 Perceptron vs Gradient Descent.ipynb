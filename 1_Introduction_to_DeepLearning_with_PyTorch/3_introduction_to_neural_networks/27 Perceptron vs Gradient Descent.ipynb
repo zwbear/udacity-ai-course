{
 "cells": [
  {
   "cell_type": "markdown",
   "metadata": {},
   "source": [
    "# Perceptron vs Gradient Descent"
   ]
  },
  {
   "cell_type": "markdown",
   "metadata": {},
   "source": [
    "[![Video](//img.youtube.com/vi/uL5LuRPivTA/0.jpg)](//www.youtube.com/watch?v=uL5LuRPivTA)\n",
    "\n",
    "In the video at 0:12 mark, the instructor said `y hat minus y`. It should be `y minus y hat` instead as stated on the slide."
   ]
  },
  {
   "cell_type": "code",
   "execution_count": null,
   "metadata": {},
   "outputs": [],
   "source": []
  }
 ],
 "metadata": {
  "kernelspec": {
   "display_name": "Python 3",
   "language": "python",
   "name": "python3"
  },
  "language_info": {
   "codemirror_mode": {
    "name": "ipython",
    "version": 3
   },
   "file_extension": ".py",
   "mimetype": "text/x-python",
   "name": "python",
   "nbconvert_exporter": "python",
   "pygments_lexer": "ipython3",
   "version": "3.7.3"
  }
 },
 "nbformat": 4,
 "nbformat_minor": 2
}
