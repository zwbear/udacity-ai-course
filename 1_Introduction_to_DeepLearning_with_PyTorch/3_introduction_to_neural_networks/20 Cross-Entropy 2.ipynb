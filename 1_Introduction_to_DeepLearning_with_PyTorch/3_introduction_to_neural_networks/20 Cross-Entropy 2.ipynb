{
 "cells": [
  {
   "cell_type": "markdown",
   "metadata": {},
   "source": [
    "# Cross-Entropy 2\n",
    "\n",
    "## Cross-Entropy\n",
    "\n",
    "So we're getting somewhere, there's definitely a connection between probabilities and error functions, and it's called **Cross-Entropy**. This concept is tremendously popular in many fields, including Machine Learning. Let's dive more into the formula, and actually code it!\n",
    "\n",
    "[![Video](//img.youtube.com/vi/qvr_ego_d6w/0.jpg)](//www.youtube.com/watch?v=qvr_ego_d6w)\n",
    "\n",
    "[![Video](//img.youtube.com/vi/1BnhC6e0TFw/0.jpg)](//www.youtube.com/watch?v=1BnhC6e0TFw)\n"
   ]
  },
  {
   "cell_type": "markdown",
   "metadata": {},
   "source": [
    "## Quiz: Coding Cross-entropy\n",
    "\n",
    "Now, time to shine! Let's code the formula for cross-entropy in Python."
   ]
  },
  {
   "cell_type": "code",
   "execution_count": 3,
   "metadata": {},
   "outputs": [],
   "source": [
    "# My solution\n",
    "\n",
    "import numpy as np\n",
    "import math\n",
    "\n",
    "# Write a function that takes as input two lists Y, P,\n",
    "# and returns the float corresponding to their cross-entropy.\n",
    "def cross_entropy(Y, P):\n",
    "    cross_entropy = 0\n",
    "    for i in range(len(Y)):\n",
    "        cross_entropy = cross_entropy - Y[i] * math.log(P[i]) - (1 - Y[i]) * math.log(1 - P[i])\n",
    "    return cross_entropy\n"
   ]
  },
  {
   "cell_type": "code",
   "execution_count": 4,
   "metadata": {},
   "outputs": [
    {
     "name": "stdout",
     "output_type": "stream",
     "text": [
      "0.6851790109107685\n"
     ]
    }
   ],
   "source": [
    "# Test My Solution\n",
    "print(cross_entropy([1,1,0], [0.8,0.7,0.1]))"
   ]
  },
  {
   "cell_type": "code",
   "execution_count": null,
   "metadata": {},
   "outputs": [],
   "source": [
    "# solution.py\n",
    "\n",
    "import numpy as np\n",
    "\n",
    "def cross_entropy(Y, P):\n",
    "    Y = np.float_(Y)\n",
    "    P = np.float_(P)\n",
    "    return -np.sum(Y * np.log(P) + (1 - Y) * np.log(1 - P))"
   ]
  }
 ],
 "metadata": {
  "kernelspec": {
   "display_name": "Python 3",
   "language": "python",
   "name": "python3"
  },
  "language_info": {
   "codemirror_mode": {
    "name": "ipython",
    "version": 3
   },
   "file_extension": ".py",
   "mimetype": "text/x-python",
   "name": "python",
   "nbconvert_exporter": "python",
   "pygments_lexer": "ipython3",
   "version": "3.7.3"
  }
 },
 "nbformat": 4,
 "nbformat_minor": 2
}
