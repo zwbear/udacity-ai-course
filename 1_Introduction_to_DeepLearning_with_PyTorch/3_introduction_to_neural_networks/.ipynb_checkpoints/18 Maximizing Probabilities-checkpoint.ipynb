{
 "cells": [
  {
   "cell_type": "markdown",
   "metadata": {},
   "source": [
    "# Maximizing Probabilities\n",
    "\n",
    "In this lesson and quiz, we will learn how to maximize a probability, using some math. Nothing more than high school math, so get ready for a trip down memory lane!\n",
    "\n",
    "[![Video](//img.youtube.com/vi/-xxrisIvD0E/0.jpg)](//www.youtube.com/watch?v=-xxrisIvD0E)\n",
    "\n",
    "[![Video](//img.youtube.com/vi/njq6bYrPqSU/0.jpg)](//www.youtube.com/watch?v=njq6bYrPqSU)\n"
   ]
  },
  {
   "cell_type": "markdown",
   "metadata": {},
   "source": [
    "## QUIZ QUESTION\n",
    "\n",
    "What function turns products into sums?\n",
    "\n",
    "- sin\n",
    "- cos\n",
    "- **log**\n",
    "- exp\n"
   ]
  },
  {
   "cell_type": "code",
   "execution_count": null,
   "metadata": {},
   "outputs": [],
   "source": []
  }
 ],
 "metadata": {
  "kernelspec": {
   "display_name": "Python 3",
   "language": "python",
   "name": "python3"
  },
  "language_info": {
   "codemirror_mode": {
    "name": "ipython",
    "version": 3
   },
   "file_extension": ".py",
   "mimetype": "text/x-python",
   "name": "python",
   "nbconvert_exporter": "python",
   "pygments_lexer": "ipython3",
   "version": "3.7.3"
  }
 },
 "nbformat": 4,
 "nbformat_minor": 2
}
