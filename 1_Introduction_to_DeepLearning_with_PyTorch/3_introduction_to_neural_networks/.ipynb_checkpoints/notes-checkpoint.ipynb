{
 "cells": [
  {
   "cell_type": "markdown",
   "metadata": {},
   "source": [
    "# Notes"
   ]
  },
  {
   "cell_type": "markdown",
   "metadata": {},
   "source": [
    "## Terms\n",
    "\n",
    "### Cross-Entropy (1.19 and 1.20)\n",
    "\n",
    "Cross-Entropy is a indicator of possibility. The larger is the cross-entropy, the smaller is the possibility.\n",
    "\n",
    "Corss-Entropy: $$CE = - \\sum_{i=1}^{n}{Y_i * log(P_i) + (1 - Y_i) * log(1 - P_i)}$$\n",
    "\n",
    "Since we only consider the situation $Y_i$ is `1` or `0`, one of the both items is always `0`."
   ]
  },
  {
   "cell_type": "markdown",
   "metadata": {},
   "source": [
    "### Multi-Class Cross Entropy (1.21)\n",
    "\n",
    "$$Cross-Entropy = - \\sum_{i=1}^{n}\\sum_{j=1}^{m}{Y_{ij} * ln(P_{ij})}$$"
   ]
  },
  {
   "cell_type": "markdown",
   "metadata": {},
   "source": [
    "### Error Function (1.22)\n",
    "\n",
    "\n",
    "$$P({case\\_1}) = \\hat{y}$$\n",
    "$$Error = -ln(\\hat{y})$$\n",
    "\n",
    "\n",
    "$$P({not\\_case\\_1}) = 1 - \\hat{y}$$\n",
    "$$Error = -ln(1 - \\hat{y})$$\n",
    "\n",
    "\n",
    "\n",
    "$$Error Function = -\\frac{1}{m}\\sum_{i=1}^{m}{(1 - y_i) * ln( 1 - \\hat{y_i}) + y_i * ln(\\hat{y_i})}$$\n",
    "\n",
    "$$E(W, b) = -\\frac{1}{m}\\sum_{i=1}^{m}{(1 - y_i) * ln(1 - \\sigma(Wx^{(i)} + b)) + y_i * ln(\\sigma(Wx^{(i)} + b))}$$"
   ]
  },
  {
   "cell_type": "code",
   "execution_count": null,
   "metadata": {},
   "outputs": [],
   "source": []
  }
 ],
 "metadata": {
  "kernelspec": {
   "display_name": "Python 3",
   "language": "python",
   "name": "python3"
  },
  "language_info": {
   "codemirror_mode": {
    "name": "ipython",
    "version": 3
   },
   "file_extension": ".py",
   "mimetype": "text/x-python",
   "name": "python",
   "nbconvert_exporter": "python",
   "pygments_lexer": "ipython3",
   "version": "3.7.3"
  }
 },
 "nbformat": 4,
 "nbformat_minor": 2
}
