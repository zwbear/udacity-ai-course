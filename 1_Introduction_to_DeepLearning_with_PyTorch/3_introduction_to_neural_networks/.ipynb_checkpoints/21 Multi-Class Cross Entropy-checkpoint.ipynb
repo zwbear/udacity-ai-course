{
 "cells": [
  {
   "cell_type": "markdown",
   "metadata": {},
   "source": [
    "# Multi-Class Cross Entropy"
   ]
  },
  {
   "cell_type": "markdown",
   "metadata": {},
   "source": [
    "[![Video](//img.youtube.com/vi/keDswcqkees/0.jpg)](//www.youtube.com/watch?v=keDswcqkees)"
   ]
  },
  {
   "cell_type": "markdown",
   "metadata": {},
   "source": [
    "## QUIZ QUESTION\n",
    "\n",
    "Based on what we have covered till now, which of the following is true?\n",
    "\n",
    "- **A higher cross-entropy implies a lower probability for an event.**\n",
    "- A higher cross-entropy implies a higher probability for an event.\n",
    "- There is no relation between the cross-entropy and the probability of an event.\n"
   ]
  },
  {
   "cell_type": "code",
   "execution_count": null,
   "metadata": {},
   "outputs": [],
   "source": []
  }
 ],
 "metadata": {
  "kernelspec": {
   "display_name": "Python 3",
   "language": "python",
   "name": "python3"
  },
  "language_info": {
   "codemirror_mode": {
    "name": "ipython",
    "version": 3
   },
   "file_extension": ".py",
   "mimetype": "text/x-python",
   "name": "python",
   "nbconvert_exporter": "python",
   "pygments_lexer": "ipython3",
   "version": "3.7.3"
  }
 },
 "nbformat": 4,
 "nbformat_minor": 2
}
