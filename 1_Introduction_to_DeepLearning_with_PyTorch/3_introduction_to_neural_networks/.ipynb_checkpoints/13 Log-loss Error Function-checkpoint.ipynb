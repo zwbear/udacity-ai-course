{
 "cells": [
  {
   "cell_type": "markdown",
   "metadata": {},
   "source": [
    "# Log-loss Error Function\n",
    "\n",
    "\n",
    "[![Video](http://img.youtube.com/vi/jfKShxGAbok/0.jpg)](http://www.youtube.com/watch?v=jfKShxGAbok)\n",
    "\n",
    "We pick back up on log-loss error with the gradient descent concept."
   ]
  },
  {
   "cell_type": "markdown",
   "metadata": {},
   "source": [
    "## QUIZ QUESTION\n",
    "\n",
    "Which of the following conditions should be met in order to apply gradient descent? (Check all that apply.)\n",
    "\n",
    "- The error function should be discrete\n",
    "- The error function should contain only positive values\n",
    "- **The error function should be differentiable**\n",
    "- The error function should be normalized\n",
    "- **The error function should be continuous**\n"
   ]
  }
 ],
 "metadata": {
  "kernelspec": {
   "display_name": "Python 3",
   "language": "python",
   "name": "python3"
  },
  "language_info": {
   "codemirror_mode": {
    "name": "ipython",
    "version": 3
   },
   "file_extension": ".py",
   "mimetype": "text/x-python",
   "name": "python",
   "nbconvert_exporter": "python",
   "pygments_lexer": "ipython3",
   "version": "3.7.3"
  }
 },
 "nbformat": 4,
 "nbformat_minor": 2
}
