{
 "cells": [
  {
   "cell_type": "markdown",
   "metadata": {},
   "source": [
    "# Discrete vs Continuous Predictions\n",
    "\n",
    "In the last few videos, we learned that continuous error functions are better than discrete error functions, when it comes to optimizing. For this, we need to switch from discrete to continuous predictions. The next two videos will guide us in doing that.\n",
    "\n",
    "[![Video](//img.youtube.com/vi/rdP-RPDFkl0/0.jpg)](//www.youtube.com/watch?v=rdP-RPDFkl0)\n",
    "\n",
    "[![Video](//img.youtube.com/vi/Rm2KxFaPiJg/0.jpg)](//www.youtube.com/watch?v=Rm2KxFaPiJg)\n"
   ]
  },
  {
   "cell_type": "markdown",
   "metadata": {},
   "source": [
    "## QUIZ QUESTION\n",
    "\n",
    "The sigmoid function is defined as $sigmoid(x) = \\frac{1}{(1+e^{-x})}$. If the score is defined by $4x_1 + 5x_2 - 9 = score$, then which of the following points has exactly a 50% probability of being blue or red? (Choose all that are correct.)"
   ]
  },
  {
   "cell_type": "markdown",
   "metadata": {},
   "source": [
    "- **(1, 1)**\n",
    "- (2, 4)\n",
    "- (5, -5)\n",
    "- **(-4, 5)**"
   ]
  },
  {
   "cell_type": "code",
   "execution_count": null,
   "metadata": {},
   "outputs": [],
   "source": []
  }
 ],
 "metadata": {
  "kernelspec": {
   "display_name": "Python 3",
   "language": "python",
   "name": "python3"
  },
  "language_info": {
   "codemirror_mode": {
    "name": "ipython",
    "version": 3
   },
   "file_extension": ".py",
   "mimetype": "text/x-python",
   "name": "python",
   "nbconvert_exporter": "python",
   "pygments_lexer": "ipython3",
   "version": "3.7.3"
  }
 },
 "nbformat": 4,
 "nbformat_minor": 2
}
