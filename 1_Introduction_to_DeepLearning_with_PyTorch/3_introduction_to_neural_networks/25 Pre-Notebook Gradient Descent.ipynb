{
 "cells": [
  {
   "cell_type": "markdown",
   "metadata": {},
   "source": [
    "# Pre-Notebook Gradient Descent"
   ]
  },
  {
   "cell_type": "markdown",
   "metadata": {},
   "source": [
    "## Implementing Gradient Descent\n",
    "\n",
    "In the following notebook, you'll be able to implement the gradient descent algorithm on the following sample dataset with two classes.\n",
    "\n",
    "![image](images/section_25/screen-shot-2018-09-10-at-7.38.39-pm.png)\n"
   ]
  },
  {
   "cell_type": "markdown",
   "metadata": {},
   "source": [
    "## Worksapce\n",
    "\n",
    "To open this notebook, you have two options:\n",
    "\n",
    "- _Go to the next page in the classroom (recommended)_\n",
    "- _Clone the repo from [Github](https://github.com/udacity/deep-learning-v2-pytorch) and open the notebook *GradientDescent.ipynb* in the *intro-neural-networks > gradient-descent* folder. You can either download the repository via the command line with `git clone https://github.com/udacity/deep-learning-v2-pytorch.git`, or download it as an archive file from this [link](https://github.com/udacity/deep-learning-v2-pytorch/archive/master.zip)._"
   ]
  },
  {
   "cell_type": "markdown",
   "metadata": {},
   "source": [
    "## Instructions\n",
    "\n",
    "n this notebook, you'll be implementing the functions that build the gradient descent algorithm, namely:\n",
    "\n",
    "- `sigmoid`: The sigmoid activation function.\n",
    "- `output_formula`: The formula for the prediction.\n",
    "- `error_formula`: The formula for the error at a point.\n",
    "- `update_weights`: The function that updates the parameters with one gradient descent step.\n",
    "\n",
    "When you implement them, run the `train` function and this will graph the several of the lines that are drawn in successive gradient descent steps. It will also graph the error function, and you can see it decreasing as the number of epochs grows.\n",
    "\n",
    "This is a self-assessed lab. If you need any help or want to check your answers, feel free to check out the solutions notebook in the same folder, or by clicking [here](https://github.com/udacity/deep-learning-v2-pytorch/blob/master/intro-neural-networks/gradient-descent/GradientDescentSolutions.ipynb).\n"
   ]
  }
 ],
 "metadata": {
  "kernelspec": {
   "display_name": "Python 3",
   "language": "python",
   "name": "python3"
  },
  "language_info": {
   "codemirror_mode": {
    "name": "ipython",
    "version": 3
   },
   "file_extension": ".py",
   "mimetype": "text/x-python",
   "name": "python",
   "nbconvert_exporter": "python",
   "pygments_lexer": "ipython3",
   "version": "3.7.3"
  }
 },
 "nbformat": 4,
 "nbformat_minor": 2
}
