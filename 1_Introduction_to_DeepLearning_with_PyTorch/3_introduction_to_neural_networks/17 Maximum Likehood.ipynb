{
 "cells": [
  {
   "cell_type": "markdown",
   "metadata": {},
   "source": [
    "# Maximum Likehood\n",
    "\n",
    "## Maximum Likehood\n",
    "\n",
    "Probability will be one of our best friends as we go through Deep Learning. In this lesson, we'll see how we can use probability to evaluate (and improve!) our models.\n",
    "\n",
    "[![Video](//img.youtube.com/vi/1yJx-QtlvNI/0.jpg)](//www.youtube.com/watch?v=1yJx-QtlvNI)\n",
    "\n",
    "[![Video](//img.youtube.com/vi/6nUUeQ9AeUA/0.jpg)](//www.youtube.com/watch?v=6nUUeQ9AeUA)\n"
   ]
  },
  {
   "cell_type": "markdown",
   "metadata": {},
   "source": [
    "## QUIZ QUESTION\n",
    "\n",
    "Based on the above video, which of the following is true for a very high value for P(all)?\n",
    "\n",
    "- The model classfiles most blue points correctly.\n",
    "- The model classifiles most red points correctly.\n",
    "- **The model classfiles most points correctly with $P(all)$ indicating how accurate the model is.**\n",
    "- The model classifiles all points correctly.\n"
   ]
  },
  {
   "cell_type": "markdown",
   "metadata": {},
   "source": [
    "The next video will show a more formal treatment of Maximum Likelihood."
   ]
  },
  {
   "cell_type": "code",
   "execution_count": null,
   "metadata": {},
   "outputs": [],
   "source": []
  }
 ],
 "metadata": {
  "kernelspec": {
   "display_name": "Python 3",
   "language": "python",
   "name": "python3"
  },
  "language_info": {
   "codemirror_mode": {
    "name": "ipython",
    "version": 3
   },
   "file_extension": ".py",
   "mimetype": "text/x-python",
   "name": "python",
   "nbconvert_exporter": "python",
   "pygments_lexer": "ipython3",
   "version": "3.7.3"
  }
 },
 "nbformat": 4,
 "nbformat_minor": 2
}
