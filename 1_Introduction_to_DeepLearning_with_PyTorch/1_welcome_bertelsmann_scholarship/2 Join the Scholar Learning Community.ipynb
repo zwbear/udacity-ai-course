{
 "cells": [
  {
   "cell_type": "markdown",
   "metadata": {},
   "source": [
    "# Join the Scolar Learning Community"
   ]
  },
  {
   "cell_type": "markdown",
   "metadata": {},
   "source": [
    "## Join the community\n",
    "\n",
    "We’ve created a custom Slack workspace for your Bertelsmann Scholarship classmates and you.\n",
    "\n",
    "In this exclusive student community, experts from the Udacity team will be able to answer your questions and provide technical advice. What’s more, you can use the Slack workspace to collaborate with and get support from classmates or ask questions to our team of Community Managers. Below are the autoinvite links to join a Slack community for your respective track:\n",
    "\n",
    "- AI track: https://slackin.udacity.com/bertelsmannai\n",
    "- Cloud track: https://slackin.udacity.com/bertelsmanncloud\n",
    "- Data track: https://slackin.udacity.com/bertelsmanndatatrack\n",
    "\n",
    "If you’re new to Slack, don’t worry. You’ll find it’s super easy to learn and that it’s a great way to communicate with other students.\n",
    "\n",
    "Orientation\n",
    "\n",
    "Our Community Managers will also be hosting an orientation for all 3 tracks (AI, Data, Cloud) to help you get started. We encourage you to attend. When: Thursday, November 21 @ 10 AM PST / 6 PM GMT / 11:30 IST. Zoom event link here: https://udacity.zoom.us/j/887556119\n",
    "\n",
    "Happy learning!"
   ]
  }
 ],
 "metadata": {
  "kernelspec": {
   "display_name": "Python 3",
   "language": "python",
   "name": "python3"
  },
  "language_info": {
   "codemirror_mode": {
    "name": "ipython",
    "version": 3
   },
   "file_extension": ".py",
   "mimetype": "text/x-python",
   "name": "python",
   "nbconvert_exporter": "python",
   "pygments_lexer": "ipython3",
   "version": "3.7.3"
  }
 },
 "nbformat": 4,
 "nbformat_minor": 2
}
